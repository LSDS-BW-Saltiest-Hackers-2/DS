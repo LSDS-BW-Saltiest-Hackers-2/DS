{
  "nbformat": 4,
  "nbformat_minor": 0,
  "metadata": {
    "colab": {
      "name": "user_comments_rank.ipynb",
      "provenance": []
    },
    "kernelspec": {
      "name": "python3",
      "display_name": "Python 3"
    }
  },
  "cells": [
    {
      "cell_type": "code",
      "metadata": {
        "id": "fJ2Pe39XjPlX",
        "colab_type": "code",
        "colab": {}
      },
      "source": [
        "import pandas as pd\n",
        "from nltk.sentiment.vader import SentimentIntensityAnalyzer\n",
        "import nltk"
      ],
      "execution_count": 0,
      "outputs": []
    },
    {
      "cell_type": "code",
      "metadata": {
        "id": "m-P1jtWgjg8f",
        "colab_type": "code",
        "colab": {
          "base_uri": "https://localhost:8080/",
          "height": 70
        },
        "outputId": "9cddec49-a662-4af6-f8ef-b914ac685e87"
      },
      "source": [
        "nltk.download('vader_lexicon')"
      ],
      "execution_count": 13,
      "outputs": [
        {
          "output_type": "stream",
          "text": [
            "[nltk_data] Downloading package vader_lexicon to /root/nltk_data...\n",
            "[nltk_data]   Package vader_lexicon is already up-to-date!\n"
          ],
          "name": "stdout"
        },
        {
          "output_type": "execute_result",
          "data": {
            "text/plain": [
              "True"
            ]
          },
          "metadata": {
            "tags": []
          },
          "execution_count": 13
        }
      ]
    },
    {
      "cell_type": "code",
      "metadata": {
        "id": "RC4VkkEijmb4",
        "colab_type": "code",
        "colab": {
          "base_uri": "https://localhost:8080/",
          "height": 34
        },
        "outputId": "ced7eac2-fb2d-44e2-d1ad-43bf2f4a9660"
      },
      "source": [
        "%ls"
      ],
      "execution_count": 14,
      "outputs": [
        {
          "output_type": "stream",
          "text": [
            "Final_Salty.csv  \u001b[0m\u001b[01;34msample_data\u001b[0m/\n"
          ],
          "name": "stdout"
        }
      ]
    },
    {
      "cell_type": "code",
      "metadata": {
        "id": "TThB-zerjsSh",
        "colab_type": "code",
        "colab": {}
      },
      "source": [
        "#csv file already ranked by SaltyScore\n",
        "\n",
        "df = pd.read_csv('Final_Salty.csv')"
      ],
      "execution_count": 0,
      "outputs": []
    },
    {
      "cell_type": "code",
      "metadata": {
        "id": "duzbYVmZj04Z",
        "colab_type": "code",
        "colab": {
          "base_uri": "https://localhost:8080/",
          "height": 195
        },
        "outputId": "b68345c3-4a00-407a-eccc-3402bd597695"
      },
      "source": [
        "df.head()"
      ],
      "execution_count": 16,
      "outputs": [
        {
          "output_type": "execute_result",
          "data": {
            "text/html": [
              "<div>\n",
              "<style scoped>\n",
              "    .dataframe tbody tr th:only-of-type {\n",
              "        vertical-align: middle;\n",
              "    }\n",
              "\n",
              "    .dataframe tbody tr th {\n",
              "        vertical-align: top;\n",
              "    }\n",
              "\n",
              "    .dataframe thead th {\n",
              "        text-align: right;\n",
              "    }\n",
              "</style>\n",
              "<table border=\"1\" class=\"dataframe\">\n",
              "  <thead>\n",
              "    <tr style=\"text-align: right;\">\n",
              "      <th></th>\n",
              "      <th>Unnamed: 0</th>\n",
              "      <th>Comment_ID</th>\n",
              "      <th>Comment</th>\n",
              "      <th>UserName</th>\n",
              "      <th>StoryId</th>\n",
              "      <th>Deleted</th>\n",
              "      <th>SaltyScore</th>\n",
              "    </tr>\n",
              "  </thead>\n",
              "  <tbody>\n",
              "    <tr>\n",
              "      <th>0</th>\n",
              "      <td>1118</td>\n",
              "      <td>23334754</td>\n",
              "      <td>Fuck em</td>\n",
              "      <td>rStar</td>\n",
              "      <td>23331287</td>\n",
              "      <td>False</td>\n",
              "      <td>0.778</td>\n",
              "    </tr>\n",
              "    <tr>\n",
              "      <th>1</th>\n",
              "      <td>120</td>\n",
              "      <td>23338465</td>\n",
              "      <td>Not great, not terrible</td>\n",
              "      <td>laretluval</td>\n",
              "      <td>23334339</td>\n",
              "      <td>False</td>\n",
              "      <td>0.731</td>\n",
              "    </tr>\n",
              "    <tr>\n",
              "      <th>2</th>\n",
              "      <td>1353</td>\n",
              "      <td>23320362</td>\n",
              "      <td>Risk aversion and capital?</td>\n",
              "      <td>eximius</td>\n",
              "      <td>23319848</td>\n",
              "      <td>False</td>\n",
              "      <td>0.714</td>\n",
              "    </tr>\n",
              "    <tr>\n",
              "      <th>3</th>\n",
              "      <td>1265</td>\n",
              "      <td>23335878</td>\n",
              "      <td>AMP is a terrifying solution to an awful problem.</td>\n",
              "      <td>tobyhinloopen</td>\n",
              "      <td>23322730</td>\n",
              "      <td>False</td>\n",
              "      <td>0.599</td>\n",
              "    </tr>\n",
              "    <tr>\n",
              "      <th>4</th>\n",
              "      <td>2595</td>\n",
              "      <td>23329336</td>\n",
              "      <td>launch aborted :(</td>\n",
              "      <td>tosh</td>\n",
              "      <td>23322948</td>\n",
              "      <td>False</td>\n",
              "      <td>0.592</td>\n",
              "    </tr>\n",
              "  </tbody>\n",
              "</table>\n",
              "</div>"
            ],
            "text/plain": [
              "   Unnamed: 0  Comment_ID  ... Deleted SaltyScore\n",
              "0        1118    23334754  ...   False      0.778\n",
              "1         120    23338465  ...   False      0.731\n",
              "2        1353    23320362  ...   False      0.714\n",
              "3        1265    23335878  ...   False      0.599\n",
              "4        2595    23329336  ...   False      0.592\n",
              "\n",
              "[5 rows x 7 columns]"
            ]
          },
          "metadata": {
            "tags": []
          },
          "execution_count": 16
        }
      ]
    },
    {
      "cell_type": "code",
      "metadata": {
        "id": "w9s8NSsQkmb6",
        "colab_type": "code",
        "colab": {}
      },
      "source": [
        "#drop extra column\n",
        "df = pd.DataFrame.drop(df, columns='Unnamed: 0')"
      ],
      "execution_count": 0,
      "outputs": []
    },
    {
      "cell_type": "code",
      "metadata": {
        "id": "830l2Dy9lbeh",
        "colab_type": "code",
        "colab": {
          "base_uri": "https://localhost:8080/",
          "height": 402
        },
        "outputId": "fbc05503-2dd2-411b-903a-127a27339fc0"
      },
      "source": [
        "df"
      ],
      "execution_count": 20,
      "outputs": [
        {
          "output_type": "execute_result",
          "data": {
            "text/html": [
              "<div>\n",
              "<style scoped>\n",
              "    .dataframe tbody tr th:only-of-type {\n",
              "        vertical-align: middle;\n",
              "    }\n",
              "\n",
              "    .dataframe tbody tr th {\n",
              "        vertical-align: top;\n",
              "    }\n",
              "\n",
              "    .dataframe thead th {\n",
              "        text-align: right;\n",
              "    }\n",
              "</style>\n",
              "<table border=\"1\" class=\"dataframe\">\n",
              "  <thead>\n",
              "    <tr style=\"text-align: right;\">\n",
              "      <th></th>\n",
              "      <th>Comment_ID</th>\n",
              "      <th>Comment</th>\n",
              "      <th>UserName</th>\n",
              "      <th>StoryId</th>\n",
              "      <th>Deleted</th>\n",
              "      <th>SaltyScore</th>\n",
              "    </tr>\n",
              "  </thead>\n",
              "  <tbody>\n",
              "    <tr>\n",
              "      <th>0</th>\n",
              "      <td>23334754</td>\n",
              "      <td>Fuck em</td>\n",
              "      <td>rStar</td>\n",
              "      <td>23331287</td>\n",
              "      <td>False</td>\n",
              "      <td>0.778</td>\n",
              "    </tr>\n",
              "    <tr>\n",
              "      <th>1</th>\n",
              "      <td>23338465</td>\n",
              "      <td>Not great, not terrible</td>\n",
              "      <td>laretluval</td>\n",
              "      <td>23334339</td>\n",
              "      <td>False</td>\n",
              "      <td>0.731</td>\n",
              "    </tr>\n",
              "    <tr>\n",
              "      <th>2</th>\n",
              "      <td>23320362</td>\n",
              "      <td>Risk aversion and capital?</td>\n",
              "      <td>eximius</td>\n",
              "      <td>23319848</td>\n",
              "      <td>False</td>\n",
              "      <td>0.714</td>\n",
              "    </tr>\n",
              "    <tr>\n",
              "      <th>3</th>\n",
              "      <td>23335878</td>\n",
              "      <td>AMP is a terrifying solution to an awful problem.</td>\n",
              "      <td>tobyhinloopen</td>\n",
              "      <td>23322730</td>\n",
              "      <td>False</td>\n",
              "      <td>0.599</td>\n",
              "    </tr>\n",
              "    <tr>\n",
              "      <th>4</th>\n",
              "      <td>23329336</td>\n",
              "      <td>launch aborted :(</td>\n",
              "      <td>tosh</td>\n",
              "      <td>23322948</td>\n",
              "      <td>False</td>\n",
              "      <td>0.592</td>\n",
              "    </tr>\n",
              "    <tr>\n",
              "      <th>...</th>\n",
              "      <td>...</td>\n",
              "      <td>...</td>\n",
              "      <td>...</td>\n",
              "      <td>...</td>\n",
              "      <td>...</td>\n",
              "      <td>...</td>\n",
              "    </tr>\n",
              "    <tr>\n",
              "      <th>3057</th>\n",
              "      <td>23338836</td>\n",
              "      <td>I’m strongly thinking of just migrating to Ubu...</td>\n",
              "      <td>samgranieri</td>\n",
              "      <td>23336255</td>\n",
              "      <td>False</td>\n",
              "      <td>0.000</td>\n",
              "    </tr>\n",
              "    <tr>\n",
              "      <th>3058</th>\n",
              "      <td>23337471</td>\n",
              "      <td>Proper ARM SBCL with threads yay</td>\n",
              "      <td>ivan4th</td>\n",
              "      <td>23336255</td>\n",
              "      <td>False</td>\n",
              "      <td>0.000</td>\n",
              "    </tr>\n",
              "    <tr>\n",
              "      <th>3059</th>\n",
              "      <td>23336865</td>\n",
              "      <td>Finally! Does this mean ArchLinuxARM (ALARM) w...</td>\n",
              "      <td>qalmakka</td>\n",
              "      <td>23336255</td>\n",
              "      <td>False</td>\n",
              "      <td>0.000</td>\n",
              "    </tr>\n",
              "    <tr>\n",
              "      <th>3060</th>\n",
              "      <td>23338715</td>\n",
              "      <td>Is there a noticeable performance benefit with...</td>\n",
              "      <td>mgamache</td>\n",
              "      <td>23336255</td>\n",
              "      <td>False</td>\n",
              "      <td>0.000</td>\n",
              "    </tr>\n",
              "    <tr>\n",
              "      <th>3061</th>\n",
              "      <td>23341390</td>\n",
              "      <td>&amp;gt; Java 8 language support update: APIs you ...</td>\n",
              "      <td>pjmlp</td>\n",
              "      <td>23340887</td>\n",
              "      <td>False</td>\n",
              "      <td>0.000</td>\n",
              "    </tr>\n",
              "  </tbody>\n",
              "</table>\n",
              "<p>3062 rows × 6 columns</p>\n",
              "</div>"
            ],
            "text/plain": [
              "      Comment_ID  ... SaltyScore\n",
              "0       23334754  ...      0.778\n",
              "1       23338465  ...      0.731\n",
              "2       23320362  ...      0.714\n",
              "3       23335878  ...      0.599\n",
              "4       23329336  ...      0.592\n",
              "...          ...  ...        ...\n",
              "3057    23338836  ...      0.000\n",
              "3058    23337471  ...      0.000\n",
              "3059    23336865  ...      0.000\n",
              "3060    23338715  ...      0.000\n",
              "3061    23341390  ...      0.000\n",
              "\n",
              "[3062 rows x 6 columns]"
            ]
          },
          "metadata": {
            "tags": []
          },
          "execution_count": 20
        }
      ]
    },
    {
      "cell_type": "code",
      "metadata": {
        "id": "VSHHg1MIldOv",
        "colab_type": "code",
        "colab": {}
      },
      "source": [
        "#remove deleted comments and NaNs\n",
        "\n",
        "df['Deleted'] = df['Deleted'].fillna(value=False)\n",
        "df = df[df['Deleted'] == False] \n",
        "df = df.dropna()"
      ],
      "execution_count": 0,
      "outputs": []
    },
    {
      "cell_type": "code",
      "metadata": {
        "id": "NGGcHiKPl8_g",
        "colab_type": "code",
        "colab": {
          "base_uri": "https://localhost:8080/",
          "height": 402
        },
        "outputId": "d15094d3-e485-4c23-87c0-556327a5f471"
      },
      "source": [
        "#users by rank \n",
        "avg_salt = df.groupby(df['UserName'], as_index = False).aggregate({'SaltyScore':'mean'})\n",
        "saltRank = pd.DataFrame(avg_salt.sort_values(by=('SaltyScore'), ascending=False))\n",
        "saltRank"
      ],
      "execution_count": 25,
      "outputs": [
        {
          "output_type": "execute_result",
          "data": {
            "text/html": [
              "<div>\n",
              "<style scoped>\n",
              "    .dataframe tbody tr th:only-of-type {\n",
              "        vertical-align: middle;\n",
              "    }\n",
              "\n",
              "    .dataframe tbody tr th {\n",
              "        vertical-align: top;\n",
              "    }\n",
              "\n",
              "    .dataframe thead th {\n",
              "        text-align: right;\n",
              "    }\n",
              "</style>\n",
              "<table border=\"1\" class=\"dataframe\">\n",
              "  <thead>\n",
              "    <tr style=\"text-align: right;\">\n",
              "      <th></th>\n",
              "      <th>UserName</th>\n",
              "      <th>SaltyScore</th>\n",
              "    </tr>\n",
              "  </thead>\n",
              "  <tbody>\n",
              "    <tr>\n",
              "      <th>1857</th>\n",
              "      <td>rStar</td>\n",
              "      <td>0.778</td>\n",
              "    </tr>\n",
              "    <tr>\n",
              "      <th>1423</th>\n",
              "      <td>laretluval</td>\n",
              "      <td>0.731</td>\n",
              "    </tr>\n",
              "    <tr>\n",
              "      <th>970</th>\n",
              "      <td>eximius</td>\n",
              "      <td>0.714</td>\n",
              "    </tr>\n",
              "    <tr>\n",
              "      <th>2216</th>\n",
              "      <td>tobyhinloopen</td>\n",
              "      <td>0.599</td>\n",
              "    </tr>\n",
              "    <tr>\n",
              "      <th>2235</th>\n",
              "      <td>tosh</td>\n",
              "      <td>0.592</td>\n",
              "    </tr>\n",
              "    <tr>\n",
              "      <th>...</th>\n",
              "      <td>...</td>\n",
              "      <td>...</td>\n",
              "    </tr>\n",
              "    <tr>\n",
              "      <th>1157</th>\n",
              "      <td>iforgotpassword</td>\n",
              "      <td>0.000</td>\n",
              "    </tr>\n",
              "    <tr>\n",
              "      <th>1153</th>\n",
              "      <td>iddan</td>\n",
              "      <td>0.000</td>\n",
              "    </tr>\n",
              "    <tr>\n",
              "      <th>1152</th>\n",
              "      <td>icedchai</td>\n",
              "      <td>0.000</td>\n",
              "    </tr>\n",
              "    <tr>\n",
              "      <th>1150</th>\n",
              "      <td>ibdf</td>\n",
              "      <td>0.000</td>\n",
              "    </tr>\n",
              "    <tr>\n",
              "      <th>1220</th>\n",
              "      <td>jariel</td>\n",
              "      <td>0.000</td>\n",
              "    </tr>\n",
              "  </tbody>\n",
              "</table>\n",
              "<p>2440 rows × 2 columns</p>\n",
              "</div>"
            ],
            "text/plain": [
              "             UserName  SaltyScore\n",
              "1857            rStar       0.778\n",
              "1423       laretluval       0.731\n",
              "970           eximius       0.714\n",
              "2216    tobyhinloopen       0.599\n",
              "2235             tosh       0.592\n",
              "...               ...         ...\n",
              "1157  iforgotpassword       0.000\n",
              "1153            iddan       0.000\n",
              "1152         icedchai       0.000\n",
              "1150             ibdf       0.000\n",
              "1220           jariel       0.000\n",
              "\n",
              "[2440 rows x 2 columns]"
            ]
          },
          "metadata": {
            "tags": []
          },
          "execution_count": 25
        }
      ]
    },
    {
      "cell_type": "code",
      "metadata": {
        "id": "NH59uUlSmren",
        "colab_type": "code",
        "colab": {}
      },
      "source": [
        "#Sort Users\n",
        "\"\"\"\n",
        "def findUser(user):\n",
        "  #user = df.groupby('UserName')['SaltyScore'].sum().sort_values().tolist()\n",
        "\n",
        "  comments = pd.DataFrame()\n",
        "  df_users = []\n",
        "\n",
        "  for UserName in user:\n",
        "    df_users = comments.append(df[(df['UserName'] == user)])\n",
        "\n",
        "  return df_users\n",
        "\"\"\""
      ],
      "execution_count": 0,
      "outputs": []
    },
    {
      "cell_type": "code",
      "metadata": {
        "id": "MIRaoyibmwi6",
        "colab_type": "code",
        "colab": {
          "base_uri": "https://localhost:8080/",
          "height": 77
        },
        "outputId": "76fbe568-ccb1-4285-cabf-0c2eced589d5"
      },
      "source": [
        "findUser('rStar')"
      ],
      "execution_count": 34,
      "outputs": [
        {
          "output_type": "execute_result",
          "data": {
            "text/html": [
              "<div>\n",
              "<style scoped>\n",
              "    .dataframe tbody tr th:only-of-type {\n",
              "        vertical-align: middle;\n",
              "    }\n",
              "\n",
              "    .dataframe tbody tr th {\n",
              "        vertical-align: top;\n",
              "    }\n",
              "\n",
              "    .dataframe thead th {\n",
              "        text-align: right;\n",
              "    }\n",
              "</style>\n",
              "<table border=\"1\" class=\"dataframe\">\n",
              "  <thead>\n",
              "    <tr style=\"text-align: right;\">\n",
              "      <th></th>\n",
              "      <th>Comment_ID</th>\n",
              "      <th>Comment</th>\n",
              "      <th>UserName</th>\n",
              "      <th>StoryId</th>\n",
              "      <th>Deleted</th>\n",
              "      <th>SaltyScore</th>\n",
              "    </tr>\n",
              "  </thead>\n",
              "  <tbody>\n",
              "    <tr>\n",
              "      <th>0</th>\n",
              "      <td>23334754</td>\n",
              "      <td>Fuck em</td>\n",
              "      <td>rStar</td>\n",
              "      <td>23331287</td>\n",
              "      <td>False</td>\n",
              "      <td>0.778</td>\n",
              "    </tr>\n",
              "  </tbody>\n",
              "</table>\n",
              "</div>"
            ],
            "text/plain": [
              "   Comment_ID  Comment UserName   StoryId  Deleted  SaltyScore\n",
              "0    23334754  Fuck em    rStar  23331287    False       0.778"
            ]
          },
          "metadata": {
            "tags": []
          },
          "execution_count": 34
        }
      ]
    },
    {
      "cell_type": "code",
      "metadata": {
        "id": "wJpDX1QtmzOV",
        "colab_type": "code",
        "colab": {
          "base_uri": "https://localhost:8080/",
          "height": 77
        },
        "outputId": "ed76bdcf-ba29-4b9f-c390-c46568225d67"
      },
      "source": [
        "findUser('eximius')"
      ],
      "execution_count": 35,
      "outputs": [
        {
          "output_type": "execute_result",
          "data": {
            "text/html": [
              "<div>\n",
              "<style scoped>\n",
              "    .dataframe tbody tr th:only-of-type {\n",
              "        vertical-align: middle;\n",
              "    }\n",
              "\n",
              "    .dataframe tbody tr th {\n",
              "        vertical-align: top;\n",
              "    }\n",
              "\n",
              "    .dataframe thead th {\n",
              "        text-align: right;\n",
              "    }\n",
              "</style>\n",
              "<table border=\"1\" class=\"dataframe\">\n",
              "  <thead>\n",
              "    <tr style=\"text-align: right;\">\n",
              "      <th></th>\n",
              "      <th>Comment_ID</th>\n",
              "      <th>Comment</th>\n",
              "      <th>UserName</th>\n",
              "      <th>StoryId</th>\n",
              "      <th>Deleted</th>\n",
              "      <th>SaltyScore</th>\n",
              "    </tr>\n",
              "  </thead>\n",
              "  <tbody>\n",
              "    <tr>\n",
              "      <th>2</th>\n",
              "      <td>23320362</td>\n",
              "      <td>Risk aversion and capital?</td>\n",
              "      <td>eximius</td>\n",
              "      <td>23319848</td>\n",
              "      <td>False</td>\n",
              "      <td>0.714</td>\n",
              "    </tr>\n",
              "  </tbody>\n",
              "</table>\n",
              "</div>"
            ],
            "text/plain": [
              "   Comment_ID                     Comment  ... Deleted  SaltyScore\n",
              "2    23320362  Risk aversion and capital?  ...   False       0.714\n",
              "\n",
              "[1 rows x 6 columns]"
            ]
          },
          "metadata": {
            "tags": []
          },
          "execution_count": 35
        }
      ]
    },
    {
      "cell_type": "code",
      "metadata": {
        "id": "xXY0nG6onbu_",
        "colab_type": "code",
        "colab": {}
      },
      "source": [
        "#Sort User\n",
        "\n",
        "def find_user(user):\n",
        "  return df[df['UserName'] == user].sort_values(by='SaltyScore')"
      ],
      "execution_count": 0,
      "outputs": []
    },
    {
      "cell_type": "code",
      "metadata": {
        "id": "yhxZBy2mniIV",
        "colab_type": "code",
        "colab": {
          "base_uri": "https://localhost:8080/",
          "height": 77
        },
        "outputId": "3847663e-7169-4d71-bda0-2529e4ee7735"
      },
      "source": [
        "find_user('eximius')"
      ],
      "execution_count": 37,
      "outputs": [
        {
          "output_type": "execute_result",
          "data": {
            "text/html": [
              "<div>\n",
              "<style scoped>\n",
              "    .dataframe tbody tr th:only-of-type {\n",
              "        vertical-align: middle;\n",
              "    }\n",
              "\n",
              "    .dataframe tbody tr th {\n",
              "        vertical-align: top;\n",
              "    }\n",
              "\n",
              "    .dataframe thead th {\n",
              "        text-align: right;\n",
              "    }\n",
              "</style>\n",
              "<table border=\"1\" class=\"dataframe\">\n",
              "  <thead>\n",
              "    <tr style=\"text-align: right;\">\n",
              "      <th></th>\n",
              "      <th>Comment_ID</th>\n",
              "      <th>Comment</th>\n",
              "      <th>UserName</th>\n",
              "      <th>StoryId</th>\n",
              "      <th>Deleted</th>\n",
              "      <th>SaltyScore</th>\n",
              "    </tr>\n",
              "  </thead>\n",
              "  <tbody>\n",
              "    <tr>\n",
              "      <th>2</th>\n",
              "      <td>23320362</td>\n",
              "      <td>Risk aversion and capital?</td>\n",
              "      <td>eximius</td>\n",
              "      <td>23319848</td>\n",
              "      <td>False</td>\n",
              "      <td>0.714</td>\n",
              "    </tr>\n",
              "  </tbody>\n",
              "</table>\n",
              "</div>"
            ],
            "text/plain": [
              "   Comment_ID                     Comment  ... Deleted  SaltyScore\n",
              "2    23320362  Risk aversion and capital?  ...   False       0.714\n",
              "\n",
              "[1 rows x 6 columns]"
            ]
          },
          "metadata": {
            "tags": []
          },
          "execution_count": 37
        }
      ]
    }
  ]
}